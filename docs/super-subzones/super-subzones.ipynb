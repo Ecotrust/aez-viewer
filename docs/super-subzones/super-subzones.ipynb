{
 "metadata": {
  "name": "",
  "signature": "sha256:83263423d4c473c769033c7e6676691435614c018a50ff7e0d47d5248fcdb22e"
 },
 "nbformat": 3,
 "nbformat_minor": 0,
 "worksheets": [
  {
   "cells": [
    {
     "cell_type": "code",
     "collapsed": false,
     "input": [
      "import pandas as pd\n",
      "import geopandas as gpd\n",
      "\n",
      "# Must used recent master (pypi version appears broken as of 8/18/2014)\n",
      "# pip install \"git+https://github.com/lokkju/pyspatialite.git@94a4522e58#pyspatialite\"\n",
      "from pyspatialite import dbapi2 as db\n",
      "\n",
      "import numpy as np"
     ],
     "language": "python",
     "metadata": {},
     "outputs": [],
     "prompt_number": 1
    },
    {
     "cell_type": "markdown",
     "metadata": {},
     "source": [
      "# Calculating \"Super-subzones\"\n",
      "\n",
      "The fundamental unit of analysis for the food production data is the **subzone**. These can aggregate up to zones and regions for some analytical purposes but, since zones can cross county lines, we may introduce novel crops to different regions as a result. Still there is a need for some aggregation as the subzones are mostly just tiny little inclusion polygons, a remnant from earlier analyses. Additionally there is substaintial performance benefit to reducing the number of features.\n",
      "\n",
      "This notebook outlines the process of creating **supersubzones** which aggregate the small subzones into their larger neighbors."
     ]
    },
    {
     "cell_type": "code",
     "collapsed": false,
     "input": [
      "con = db.connect(\"../../site/food_zones/food_zones_all.sqlite\")\n",
      "\n",
      "con.execute(\"DROP TABLE IF EXISTS sz1;\")\n",
      "con.commit()\n",
      "\n",
      "con.execute(\"\"\"\n",
      "    CREATE TABLE sz1 AS\n",
      "    SELECT GEOMETRY, isozone as subzone, subzone_lookup_iso_maj3_27 as zone, acres_fn_sum_f_area as acres, acres_fn_count as pixels\n",
      "    FROM food_zones_all\n",
      "    ORDER BY subzone_lookup_iso_maj3_27\n",
      "\"\"\")\n",
      "con.commit()\n",
      "\n",
      "# con.execute(\"SELECT RecoverGeometryColumn('sz1', 'GEOMETRY', 4326, 'POLYGON');\")\n",
      "# con.commit()"
     ],
     "language": "python",
     "metadata": {},
     "outputs": [],
     "prompt_number": 2
    },
    {
     "cell_type": "code",
     "collapsed": false,
     "input": [
      "# SQL must wrap the geometry in hex(st_asbinary(...))\n",
      "sql = \"SELECT subzone, zone, acres, pixels, Hex(ST_AsBinary(GEOMETRY)) as geom FROM sz1;\"\n",
      "df = gpd.GeoDataFrame.from_postgis(sql, con, geom_col='geom')\n",
      " \n",
      "print(df.head())"
     ],
     "language": "python",
     "metadata": {},
     "outputs": [
      {
       "output_type": "stream",
       "stream": "stdout",
       "text": [
        "   subzone zone        acres  pixels  \\\n",
        "0     4692    1    247.10538       1   \n",
        "1     4696    1    247.10538       1   \n",
        "2     4726    1    247.10538       1   \n",
        "3     4711    1  26193.17044     106   \n",
        "4     4678    1  82780.30279     335   \n",
        "\n",
        "                                                geom  \n",
        "0  POLYGON ((-116.4318629461466 33.96935842519778...  \n",
        "1  POLYGON ((-116.7055845591541 33.90608575847947...  \n",
        "2  POLYGON ((-116.4798619310432 33.7788560121573,...  \n",
        "3  POLYGON ((-116.1792653228441 33.76369807133567...  \n",
        "4  POLYGON ((-116.3798029737053 33.72212711393417...  \n"
       ]
      }
     ],
     "prompt_number": 3
    },
    {
     "cell_type": "code",
     "collapsed": false,
     "input": [
      "# Convert some types\n",
      "df[['subzone', u'zone', u'pixels']] = df[['subzone', u'zone', u'pixels']].astype(int)\n",
      "df[[u'acres']] = df[[u'acres']].astype(int)"
     ],
     "language": "python",
     "metadata": {},
     "outputs": [],
     "prompt_number": 4
    },
    {
     "cell_type": "code",
     "collapsed": false,
     "input": [
      "subzones = df.shape[0]\n",
      "subzones"
     ],
     "language": "python",
     "metadata": {},
     "outputs": [
      {
       "metadata": {},
       "output_type": "pyout",
       "prompt_number": 5,
       "text": [
        "4886"
       ]
      }
     ],
     "prompt_number": 5
    },
    {
     "cell_type": "markdown",
     "metadata": {},
     "source": [
      "There are plenty of single pixel subzones that we should be able to get rid of. Let's take a look at the distribition of pixel counts for each subzone"
     ]
    },
    {
     "cell_type": "code",
     "collapsed": false,
     "input": [
      "df.hist(column=\"pixels\", bins=40)"
     ],
     "language": "python",
     "metadata": {},
     "outputs": [
      {
       "metadata": {},
       "output_type": "pyout",
       "prompt_number": 6,
       "text": [
        "array([[<matplotlib.axes.AxesSubplot object at 0x7fa0c393f3d0>]], dtype=object)"
       ]
      },
      {
       "metadata": {},
       "output_type": "display_data",
       "png": "[encoded data removed]",
       "text": [
        "<matplotlib.figure.Figure at 0x7fa0c8d11f10>"
       ]
      }
     ],
     "prompt_number": 6
    },
    {
     "cell_type": "markdown",
     "metadata": {},
     "source": [
      "As expected, the majority of cells are very tiny. Let's look at some thresholds to see how far we might reduce the number of rows"
     ]
    },
    {
     "cell_type": "code",
     "collapsed": false,
     "input": [
      "for i in range(2, 30, 2):\n",
      "    n = df[df.pixels >= i].shape[0]\n",
      "    print(\"Threshold {} pixels => {} rows ... a {:0.2f} x reduction\".format(i, n, subzones/float(n)))"
     ],
     "language": "python",
     "metadata": {},
     "outputs": [
      {
       "output_type": "stream",
       "stream": "stdout",
       "text": [
        "Threshold 2 pixels => 2944 rows ... a 1.66 x reduction\n",
        "Threshold 4 pixels => 2013 rows ... a 2.43 x reduction"
       ]
      },
      {
       "output_type": "stream",
       "stream": "stdout",
       "text": [
        "\n",
        "Threshold 6 pixels => 1707 rows ... a 2.86 x reduction"
       ]
      },
      {
       "output_type": "stream",
       "stream": "stdout",
       "text": [
        "\n",
        "Threshold 8 pixels => 1531 rows ... a 3.19 x reduction"
       ]
      },
      {
       "output_type": "stream",
       "stream": "stdout",
       "text": [
        "\n",
        "Threshold 10 pixels => 1415 rows ... a 3.45 x reduction"
       ]
      },
      {
       "output_type": "stream",
       "stream": "stdout",
       "text": [
        "\n",
        "Threshold 12 pixels => 1317 rows ... a 3.71 x reduction"
       ]
      },
      {
       "output_type": "stream",
       "stream": "stdout",
       "text": [
        "\n",
        "Threshold 14 pixels => 1238 rows ... a 3.95 x reduction"
       ]
      },
      {
       "output_type": "stream",
       "stream": "stdout",
       "text": [
        "\n",
        "Threshold 16 pixels => 1187 rows ... a 4.12 x reduction"
       ]
      },
      {
       "output_type": "stream",
       "stream": "stdout",
       "text": [
        "\n",
        "Threshold 18 pixels => 1151 rows ... a 4.25 x reduction"
       ]
      },
      {
       "output_type": "stream",
       "stream": "stdout",
       "text": [
        "\n",
        "Threshold 20 pixels => 1105 rows ... a 4.42 x reduction"
       ]
      },
      {
       "output_type": "stream",
       "stream": "stdout",
       "text": [
        "\n",
        "Threshold 22 pixels => 1068 rows ... a 4.57 x reduction"
       ]
      },
      {
       "output_type": "stream",
       "stream": "stdout",
       "text": [
        "\n",
        "Threshold 24 pixels => 1031 rows ... a 4.74 x reduction"
       ]
      },
      {
       "output_type": "stream",
       "stream": "stdout",
       "text": [
        "\n",
        "Threshold 26 pixels => 997 rows ... a 4.90 x reduction"
       ]
      },
      {
       "output_type": "stream",
       "stream": "stdout",
       "text": [
        "\n",
        "Threshold 28 pixels => 961 rows ... a 5.08 x reduction"
       ]
      },
      {
       "output_type": "stream",
       "stream": "stdout",
       "text": [
        "\n"
       ]
      }
     ],
     "prompt_number": 7
    },
    {
     "cell_type": "markdown",
     "metadata": {},
     "source": [
      "Let's pick an arbitrary threshold and explore how we might get rid of these pesky tiny polygons.\n",
      "\n",
      "At this point let's assume that redoing the spatial data to eliminate the inclusions is not an option. The only remaining option is to aggregate the smaller subzones up to our \"super-subzones\" and create multipolygon geometries. But which zones should be grouped together?\n",
      "\n",
      "It seems like breaking the zone membership is not an option; we have to aggregate within the 176 defined zones. \n",
      "\n",
      "The tiny subzones need to be aggregated to the **nearest subzone above our size threshold**.\n",
      "\n",
      "So we start by creating a new column `supersubzone` and populating it with the subzone id *only* if over the size threshold."
     ]
    },
    {
     "cell_type": "code",
     "collapsed": false,
     "input": [
      "threshold = 6\n",
      "df[\"supersubzone\"] = np.nan\n",
      "df.ix[df.pixels >= threshold, 'supersubzone'] = df.subzone\n",
      "df[df.zone==1]"
     ],
     "language": "python",
     "metadata": {},
     "outputs": [
      {
       "html": [
        "<div style=\"max-height:1000px;max-width:1500px;overflow:auto;\">\n",
        "<table border=\"1\" class=\"dataframe\">\n",
        "  <thead>\n",
        "    <tr style=\"text-align: right;\">\n",
        "      <th></th>\n",
        "      <th>subzone</th>\n",
        "      <th>zone</th>\n",
        "      <th>acres</th>\n",
        "      <th>pixels</th>\n",
        "      <th>geom</th>\n",
        "      <th>supersubzone</th>\n",
        "    </tr>\n",
        "  </thead>\n",
        "  <tbody>\n",
        "    <tr>\n",
        "      <th>0 </th>\n",
        "      <td> 4692</td>\n",
        "      <td> 1</td>\n",
        "      <td>    247</td>\n",
        "      <td>   1</td>\n",
        "      <td> POLYGON ((-116.4318629461466 33.96935842519778...</td>\n",
        "      <td>  NaN</td>\n",
        "    </tr>\n",
        "    <tr>\n",
        "      <th>1 </th>\n",
        "      <td> 4696</td>\n",
        "      <td> 1</td>\n",
        "      <td>    247</td>\n",
        "      <td>   1</td>\n",
        "      <td> POLYGON ((-116.7055845591541 33.90608575847947...</td>\n",
        "      <td>  NaN</td>\n",
        "    </tr>\n",
        "    <tr>\n",
        "      <th>2 </th>\n",
        "      <td> 4726</td>\n",
        "      <td> 1</td>\n",
        "      <td>    247</td>\n",
        "      <td>   1</td>\n",
        "      <td> POLYGON ((-116.4798619310432 33.7788560121573,...</td>\n",
        "      <td>  NaN</td>\n",
        "    </tr>\n",
        "    <tr>\n",
        "      <th>3 </th>\n",
        "      <td> 4711</td>\n",
        "      <td> 1</td>\n",
        "      <td>  26193</td>\n",
        "      <td> 106</td>\n",
        "      <td> POLYGON ((-116.1792653228441 33.76369807133567...</td>\n",
        "      <td> 4711</td>\n",
        "    </tr>\n",
        "    <tr>\n",
        "      <th>4 </th>\n",
        "      <td> 4678</td>\n",
        "      <td> 1</td>\n",
        "      <td>  82780</td>\n",
        "      <td> 335</td>\n",
        "      <td> POLYGON ((-116.3798029737053 33.72212711393417...</td>\n",
        "      <td> 4678</td>\n",
        "    </tr>\n",
        "    <tr>\n",
        "      <th>5 </th>\n",
        "      <td> 4751</td>\n",
        "      <td> 1</td>\n",
        "      <td>    247</td>\n",
        "      <td>   1</td>\n",
        "      <td> POLYGON ((-116.1223368039739 33.75457190122851...</td>\n",
        "      <td>  NaN</td>\n",
        "    </tr>\n",
        "    <tr>\n",
        "      <th>6 </th>\n",
        "      <td> 4748</td>\n",
        "      <td> 1</td>\n",
        "      <td>    494</td>\n",
        "      <td>   2</td>\n",
        "      <td> POLYGON ((-116.3867494108967 33.7027302483707,...</td>\n",
        "      <td>  NaN</td>\n",
        "    </tr>\n",
        "    <tr>\n",
        "      <th>7 </th>\n",
        "      <td> 4750</td>\n",
        "      <td> 1</td>\n",
        "      <td>  45714</td>\n",
        "      <td> 185</td>\n",
        "      <td> POLYGON ((-116.0904069397445 33.33056812207214...</td>\n",
        "      <td> 4750</td>\n",
        "    </tr>\n",
        "    <tr>\n",
        "      <th>8 </th>\n",
        "      <td> 4813</td>\n",
        "      <td> 1</td>\n",
        "      <td> 101313</td>\n",
        "      <td> 410</td>\n",
        "      <td> POLYGON ((-115.1923197129071 33.15122365549543...</td>\n",
        "      <td> 4813</td>\n",
        "    </tr>\n",
        "    <tr>\n",
        "      <th>9 </th>\n",
        "      <td> 4856</td>\n",
        "      <td> 1</td>\n",
        "      <td>    247</td>\n",
        "      <td>   1</td>\n",
        "      <td> POLYGON ((-116.0135927389666 32.84064577702359...</td>\n",
        "      <td>  NaN</td>\n",
        "    </tr>\n",
        "    <tr>\n",
        "      <th>10</th>\n",
        "      <td> 4854</td>\n",
        "      <td> 1</td>\n",
        "      <td>   1235</td>\n",
        "      <td>   5</td>\n",
        "      <td> POLYGON ((-116.0329073183431 32.82841568082454...</td>\n",
        "      <td>  NaN</td>\n",
        "    </tr>\n",
        "    <tr>\n",
        "      <th>11</th>\n",
        "      <td> 4859</td>\n",
        "      <td> 1</td>\n",
        "      <td>    494</td>\n",
        "      <td>   2</td>\n",
        "      <td> POLYGON ((-116.0100647160535 32.82294654827611...</td>\n",
        "      <td>  NaN</td>\n",
        "    </tr>\n",
        "    <tr>\n",
        "      <th>12</th>\n",
        "      <td> 4858</td>\n",
        "      <td> 1</td>\n",
        "      <td>   1729</td>\n",
        "      <td>   7</td>\n",
        "      <td> POLYGON ((-115.9643901593604 32.81199183669287...</td>\n",
        "      <td> 4858</td>\n",
        "    </tr>\n",
        "    <tr>\n",
        "      <th>13</th>\n",
        "      <td> 4861</td>\n",
        "      <td> 1</td>\n",
        "      <td>  19027</td>\n",
        "      <td>  77</td>\n",
        "      <td> POLYGON ((-116.0100647160535 32.82294654827611...</td>\n",
        "      <td> 4861</td>\n",
        "    </tr>\n",
        "    <tr>\n",
        "      <th>14</th>\n",
        "      <td> 4868</td>\n",
        "      <td> 1</td>\n",
        "      <td>    247</td>\n",
        "      <td>   1</td>\n",
        "      <td> POLYGON ((-115.8188601640728 32.6799198936112,...</td>\n",
        "      <td>  NaN</td>\n",
        "    </tr>\n",
        "    <tr>\n",
        "      <th>15</th>\n",
        "      <td> 4869</td>\n",
        "      <td> 1</td>\n",
        "      <td>    247</td>\n",
        "      <td>   1</td>\n",
        "      <td> POLYGON ((-115.8066025021541 32.6727311591206,...</td>\n",
        "      <td>  NaN</td>\n",
        "    </tr>\n",
        "    <tr>\n",
        "      <th>16</th>\n",
        "      <td> 4872</td>\n",
        "      <td> 1</td>\n",
        "      <td>    741</td>\n",
        "      <td>   3</td>\n",
        "      <td> POLYGON ((-115.9714222365707 32.62821953390154...</td>\n",
        "      <td>  NaN</td>\n",
        "    </tr>\n",
        "    <tr>\n",
        "      <th>17</th>\n",
        "      <td> 4874</td>\n",
        "      <td> 1</td>\n",
        "      <td>   1729</td>\n",
        "      <td>   7</td>\n",
        "      <td> POLYGON ((-115.7365558104117 32.64727966598441...</td>\n",
        "      <td> 4874</td>\n",
        "    </tr>\n",
        "  </tbody>\n",
        "</table>\n",
        "</div>"
       ],
       "metadata": {},
       "output_type": "pyout",
       "prompt_number": 8,
       "text": [
        "    subzone  zone   acres  pixels  \\\n",
        "0      4692     1     247       1   \n",
        "1      4696     1     247       1   \n",
        "2      4726     1     247       1   \n",
        "3      4711     1   26193     106   \n",
        "4      4678     1   82780     335   \n",
        "5      4751     1     247       1   \n",
        "6      4748     1     494       2   \n",
        "7      4750     1   45714     185   \n",
        "8      4813     1  101313     410   \n",
        "9      4856     1     247       1   \n",
        "10     4854     1    1235       5   \n",
        "11     4859     1     494       2   \n",
        "12     4858     1    1729       7   \n",
        "13     4861     1   19027      77   \n",
        "14     4868     1     247       1   \n",
        "15     4869     1     247       1   \n",
        "16     4872     1     741       3   \n",
        "17     4874     1    1729       7   \n",
        "\n",
        "                                                 geom  supersubzone  \n",
        "0   POLYGON ((-116.4318629461466 33.96935842519778...           NaN  \n",
        "1   POLYGON ((-116.7055845591541 33.90608575847947...           NaN  \n",
        "2   POLYGON ((-116.4798619310432 33.7788560121573,...           NaN  \n",
        "3   POLYGON ((-116.1792653228441 33.76369807133567...          4711  \n",
        "4   POLYGON ((-116.3798029737053 33.72212711393417...          4678  \n",
        "5   POLYGON ((-116.1223368039739 33.75457190122851...           NaN  \n",
        "6   POLYGON ((-116.3867494108967 33.7027302483707,...           NaN  \n",
        "7   POLYGON ((-116.0904069397445 33.33056812207214...          4750  \n",
        "8   POLYGON ((-115.1923197129071 33.15122365549543...          4813  \n",
        "9   POLYGON ((-116.0135927389666 32.84064577702359...           NaN  \n",
        "10  POLYGON ((-116.0329073183431 32.82841568082454...           NaN  \n",
        "11  POLYGON ((-116.0100647160535 32.82294654827611...           NaN  \n",
        "12  POLYGON ((-115.9643901593604 32.81199183669287...          4858  \n",
        "13  POLYGON ((-116.0100647160535 32.82294654827611...          4861  \n",
        "14  POLYGON ((-115.8188601640728 32.6799198936112,...           NaN  \n",
        "15  POLYGON ((-115.8066025021541 32.6727311591206,...           NaN  \n",
        "16  POLYGON ((-115.9714222365707 32.62821953390154...           NaN  \n",
        "17  POLYGON ((-115.7365558104117 32.64727966598441...          4874  "
       ]
      }
     ],
     "prompt_number": 8
    },
    {
     "cell_type": "markdown",
     "metadata": {},
     "source": [
      "For the remaining tiny polygons, we have to determine which subzone to pair them with. It has to be nearby and it has to be in the same zone. We need a distance matrix for each zones' subzones"
     ]
    },
    {
     "cell_type": "markdown",
     "metadata": {},
     "source": [
      "Now loop through the zones and do the thing"
     ]
    },
    {
     "cell_type": "code",
     "collapsed": true,
     "input": [
      "big = df[pd.notnull(df.supersubzone)]\n",
      "tiny = df[pd.isnull(df.supersubzone)]\n",
      "\n",
      "for zone in df.zone.unique():\n",
      "    ztiny = tiny[tiny.zone == zone]\n",
      "    zbig = big[big.zone == zone]\n",
      "    for i, zt in ztiny.iterrows():\n",
      "        tiny_subzone = zt.subzone\n",
      "        tiny_geom = zt[ztiny._geometry_column_name]\n",
      "\n",
      "        # Find nearest subzone in zbig\n",
      "        shortest_distance = float('inf')\n",
      "        nearest_subzone = None\n",
      "        for i, zb in zbig.iterrows():\n",
      "            big_subzone = zb.subzone\n",
      "            big_geom = zb[zbig._geometry_column_name]\n",
      "            distance = tiny_geom.distance(big_geom)\n",
      "            if distance < shortest_distance:\n",
      "                shortest_distance = distance\n",
      "                nearest_subzone = big_subzone\n",
      "            #print \"\\t\", big_subzone, \" is away by\", distance   \n",
      "        #print tiny_subzone, \" is nearest to \", nearest_subzone\n",
      "        \n",
      "        # assign nearest as supersubzone in original dataframe\n",
      "        df.ix[df.subzone == tiny_subzone, 'supersubzone'] = nearest_subzone\n",
      "    \n",
      "df[df.zone==1]"
     ],
     "language": "python",
     "metadata": {},
     "outputs": [
      {
       "html": [
        "<div style=\"max-height:1000px;max-width:1500px;overflow:auto;\">\n",
        "<table border=\"1\" class=\"dataframe\">\n",
        "  <thead>\n",
        "    <tr style=\"text-align: right;\">\n",
        "      <th></th>\n",
        "      <th>subzone</th>\n",
        "      <th>zone</th>\n",
        "      <th>acres</th>\n",
        "      <th>pixels</th>\n",
        "      <th>geom</th>\n",
        "      <th>supersubzone</th>\n",
        "    </tr>\n",
        "  </thead>\n",
        "  <tbody>\n",
        "    <tr>\n",
        "      <th>0 </th>\n",
        "      <td> 4692</td>\n",
        "      <td> 1</td>\n",
        "      <td>    247</td>\n",
        "      <td>   1</td>\n",
        "      <td> POLYGON ((-116.4318629461466 33.96935842519778...</td>\n",
        "      <td> 4678</td>\n",
        "    </tr>\n",
        "    <tr>\n",
        "      <th>1 </th>\n",
        "      <td> 4696</td>\n",
        "      <td> 1</td>\n",
        "      <td>    247</td>\n",
        "      <td>   1</td>\n",
        "      <td> POLYGON ((-116.7055845591541 33.90608575847947...</td>\n",
        "      <td> 4678</td>\n",
        "    </tr>\n",
        "    <tr>\n",
        "      <th>2 </th>\n",
        "      <td> 4726</td>\n",
        "      <td> 1</td>\n",
        "      <td>    247</td>\n",
        "      <td>   1</td>\n",
        "      <td> POLYGON ((-116.4798619310432 33.7788560121573,...</td>\n",
        "      <td> 4678</td>\n",
        "    </tr>\n",
        "    <tr>\n",
        "      <th>3 </th>\n",
        "      <td> 4711</td>\n",
        "      <td> 1</td>\n",
        "      <td>  26193</td>\n",
        "      <td> 106</td>\n",
        "      <td> POLYGON ((-116.1792653228441 33.76369807133567...</td>\n",
        "      <td> 4711</td>\n",
        "    </tr>\n",
        "    <tr>\n",
        "      <th>4 </th>\n",
        "      <td> 4678</td>\n",
        "      <td> 1</td>\n",
        "      <td>  82780</td>\n",
        "      <td> 335</td>\n",
        "      <td> POLYGON ((-116.3798029737053 33.72212711393417...</td>\n",
        "      <td> 4678</td>\n",
        "    </tr>\n",
        "    <tr>\n",
        "      <th>5 </th>\n",
        "      <td> 4751</td>\n",
        "      <td> 1</td>\n",
        "      <td>    247</td>\n",
        "      <td>   1</td>\n",
        "      <td> POLYGON ((-116.1223368039739 33.75457190122851...</td>\n",
        "      <td> 4813</td>\n",
        "    </tr>\n",
        "    <tr>\n",
        "      <th>6 </th>\n",
        "      <td> 4748</td>\n",
        "      <td> 1</td>\n",
        "      <td>    494</td>\n",
        "      <td>   2</td>\n",
        "      <td> POLYGON ((-116.3867494108967 33.7027302483707,...</td>\n",
        "      <td> 4678</td>\n",
        "    </tr>\n",
        "    <tr>\n",
        "      <th>7 </th>\n",
        "      <td> 4750</td>\n",
        "      <td> 1</td>\n",
        "      <td>  45714</td>\n",
        "      <td> 185</td>\n",
        "      <td> POLYGON ((-116.0904069397445 33.33056812207214...</td>\n",
        "      <td> 4750</td>\n",
        "    </tr>\n",
        "    <tr>\n",
        "      <th>8 </th>\n",
        "      <td> 4813</td>\n",
        "      <td> 1</td>\n",
        "      <td> 101313</td>\n",
        "      <td> 410</td>\n",
        "      <td> POLYGON ((-115.1923197129071 33.15122365549543...</td>\n",
        "      <td> 4813</td>\n",
        "    </tr>\n",
        "    <tr>\n",
        "      <th>9 </th>\n",
        "      <td> 4856</td>\n",
        "      <td> 1</td>\n",
        "      <td>    247</td>\n",
        "      <td>   1</td>\n",
        "      <td> POLYGON ((-116.0135927389666 32.84064577702359...</td>\n",
        "      <td> 4858</td>\n",
        "    </tr>\n",
        "    <tr>\n",
        "      <th>10</th>\n",
        "      <td> 4854</td>\n",
        "      <td> 1</td>\n",
        "      <td>   1235</td>\n",
        "      <td>   5</td>\n",
        "      <td> POLYGON ((-116.0329073183431 32.82841568082454...</td>\n",
        "      <td> 4858</td>\n",
        "    </tr>\n",
        "    <tr>\n",
        "      <th>11</th>\n",
        "      <td> 4859</td>\n",
        "      <td> 1</td>\n",
        "      <td>    494</td>\n",
        "      <td>   2</td>\n",
        "      <td> POLYGON ((-116.0100647160535 32.82294654827611...</td>\n",
        "      <td> 4858</td>\n",
        "    </tr>\n",
        "    <tr>\n",
        "      <th>12</th>\n",
        "      <td> 4858</td>\n",
        "      <td> 1</td>\n",
        "      <td>   1729</td>\n",
        "      <td>   7</td>\n",
        "      <td> POLYGON ((-115.9643901593604 32.81199183669287...</td>\n",
        "      <td> 4858</td>\n",
        "    </tr>\n",
        "    <tr>\n",
        "      <th>13</th>\n",
        "      <td> 4861</td>\n",
        "      <td> 1</td>\n",
        "      <td>  19027</td>\n",
        "      <td>  77</td>\n",
        "      <td> POLYGON ((-116.0100647160535 32.82294654827611...</td>\n",
        "      <td> 4861</td>\n",
        "    </tr>\n",
        "    <tr>\n",
        "      <th>14</th>\n",
        "      <td> 4868</td>\n",
        "      <td> 1</td>\n",
        "      <td>    247</td>\n",
        "      <td>   1</td>\n",
        "      <td> POLYGON ((-115.8188601640728 32.6799198936112,...</td>\n",
        "      <td> 4874</td>\n",
        "    </tr>\n",
        "    <tr>\n",
        "      <th>15</th>\n",
        "      <td> 4869</td>\n",
        "      <td> 1</td>\n",
        "      <td>    247</td>\n",
        "      <td>   1</td>\n",
        "      <td> POLYGON ((-115.8066025021541 32.6727311591206,...</td>\n",
        "      <td> 4874</td>\n",
        "    </tr>\n",
        "    <tr>\n",
        "      <th>16</th>\n",
        "      <td> 4872</td>\n",
        "      <td> 1</td>\n",
        "      <td>    741</td>\n",
        "      <td>   3</td>\n",
        "      <td> POLYGON ((-115.9714222365707 32.62821953390154...</td>\n",
        "      <td> 4861</td>\n",
        "    </tr>\n",
        "    <tr>\n",
        "      <th>17</th>\n",
        "      <td> 4874</td>\n",
        "      <td> 1</td>\n",
        "      <td>   1729</td>\n",
        "      <td>   7</td>\n",
        "      <td> POLYGON ((-115.7365558104117 32.64727966598441...</td>\n",
        "      <td> 4874</td>\n",
        "    </tr>\n",
        "  </tbody>\n",
        "</table>\n",
        "</div>"
       ],
       "metadata": {},
       "output_type": "pyout",
       "prompt_number": 9,
       "text": [
        "    subzone  zone   acres  pixels  \\\n",
        "0      4692     1     247       1   \n",
        "1      4696     1     247       1   \n",
        "2      4726     1     247       1   \n",
        "3      4711     1   26193     106   \n",
        "4      4678     1   82780     335   \n",
        "5      4751     1     247       1   \n",
        "6      4748     1     494       2   \n",
        "7      4750     1   45714     185   \n",
        "8      4813     1  101313     410   \n",
        "9      4856     1     247       1   \n",
        "10     4854     1    1235       5   \n",
        "11     4859     1     494       2   \n",
        "12     4858     1    1729       7   \n",
        "13     4861     1   19027      77   \n",
        "14     4868     1     247       1   \n",
        "15     4869     1     247       1   \n",
        "16     4872     1     741       3   \n",
        "17     4874     1    1729       7   \n",
        "\n",
        "                                                 geom  supersubzone  \n",
        "0   POLYGON ((-116.4318629461466 33.96935842519778...          4678  \n",
        "1   POLYGON ((-116.7055845591541 33.90608575847947...          4678  \n",
        "2   POLYGON ((-116.4798619310432 33.7788560121573,...          4678  \n",
        "3   POLYGON ((-116.1792653228441 33.76369807133567...          4711  \n",
        "4   POLYGON ((-116.3798029737053 33.72212711393417...          4678  \n",
        "5   POLYGON ((-116.1223368039739 33.75457190122851...          4813  \n",
        "6   POLYGON ((-116.3867494108967 33.7027302483707,...          4678  \n",
        "7   POLYGON ((-116.0904069397445 33.33056812207214...          4750  \n",
        "8   POLYGON ((-115.1923197129071 33.15122365549543...          4813  \n",
        "9   POLYGON ((-116.0135927389666 32.84064577702359...          4858  \n",
        "10  POLYGON ((-116.0329073183431 32.82841568082454...          4858  \n",
        "11  POLYGON ((-116.0100647160535 32.82294654827611...          4858  \n",
        "12  POLYGON ((-115.9643901593604 32.81199183669287...          4858  \n",
        "13  POLYGON ((-116.0100647160535 32.82294654827611...          4861  \n",
        "14  POLYGON ((-115.8188601640728 32.6799198936112,...          4874  \n",
        "15  POLYGON ((-115.8066025021541 32.6727311591206,...          4874  \n",
        "16  POLYGON ((-115.9714222365707 32.62821953390154...          4861  \n",
        "17  POLYGON ((-115.7365558104117 32.64727966598441...          4874  "
       ]
      }
     ],
     "prompt_number": 9
    },
    {
     "cell_type": "markdown",
     "metadata": {},
     "source": [
      "You can see that our the subzones that comprise zone 1 are now reduced to far fewer supersubzones"
     ]
    },
    {
     "cell_type": "code",
     "collapsed": false,
     "input": [
      "print df[df.zone==1].subzone.unique().shape[0]\n",
      "print df[df.zone==1].supersubzone.unique().shape[0]"
     ],
     "language": "python",
     "metadata": {},
     "outputs": [
      {
       "output_type": "stream",
       "stream": "stdout",
       "text": [
        "18\n",
        "7\n"
       ]
      }
     ],
     "prompt_number": 10
    },
    {
     "cell_type": "code",
     "collapsed": false,
     "input": [
      "# And overall\n",
      "print df.subzone.unique().shape[0]\n",
      "print df.supersubzone.unique().shape[0]"
     ],
     "language": "python",
     "metadata": {},
     "outputs": [
      {
       "output_type": "stream",
       "stream": "stdout",
       "text": [
        "4886\n",
        "1707\n"
       ]
      }
     ],
     "prompt_number": 11
    },
    {
     "cell_type": "markdown",
     "metadata": {},
     "source": [
      "Finally, we can output the completed dataframe to a csv for use in the data processing scripts"
     ]
    },
    {
     "cell_type": "code",
     "collapsed": false,
     "input": [
      "df[[u'supersubzone']] = df[[u'supersubzone']].astype(int)\n",
      "df.to_csv(\"lookup_supersubzones.csv\", columns=['subzone','zone','supersubzone'], index_label='index')"
     ],
     "language": "python",
     "metadata": {},
     "outputs": [],
     "prompt_number": 12
    }
   ],
   "metadata": {}
  }
 ]
}